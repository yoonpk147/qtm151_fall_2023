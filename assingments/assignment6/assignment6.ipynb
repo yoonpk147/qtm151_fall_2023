{
 "cells": [
  {
   "attachments": {},
   "cell_type": "markdown",
   "metadata": {},
   "source": [
    "# Assignment 6"
   ]
  },
  {
   "attachments": {},
   "cell_type": "markdown",
   "metadata": {},
   "source": [
    "## Try to submit as an HTML file"
   ]
  },
  {
   "attachments": {},
   "cell_type": "markdown",
   "metadata": {},
   "source": [
    "<font size = \"5\">\n",
    "Print your Emory ID below"
   ]
  },
  {
   "cell_type": "code",
   "execution_count": null,
   "metadata": {},
   "outputs": [],
   "source": []
  },
  {
   "attachments": {},
   "cell_type": "markdown",
   "metadata": {},
   "source": [
    "<font size = \"5\">\n",
    "\n",
    "Import the \"pandas\" and \"matplotlib.pyplot\" library"
   ]
  },
  {
   "cell_type": "code",
   "execution_count": 7,
   "metadata": {},
   "outputs": [],
   "source": [
    "# Write your answer here:\n"
   ]
  },
  {
   "attachments": {},
   "cell_type": "markdown",
   "metadata": {},
   "source": [
    "<font size = \"5\">\n",
    "\n",
    "(a) Compute function for each individual (map)\n",
    "\n",
    "<font size = \"3\">\n",
    "\n",
    "- Import the datset \"data/bmi.csv\"\n",
    "    - **Note that the column `Height` is in $cm$, and `Weight` is in $kg$**\n",
    "- Write a lambda function for $ BMI = \\frac{weight (kg)}{height (m)^2} $\n",
    "- Use ```list(map(...))``` to calculate $BMI$ for each row of the dataset\n",
    "- Round the outcome into 2 decimal points\n",
    "- Store the calculation in a new column in the dataframe called `BMI`\n",
    "- Display the dataframe\n"
   ]
  },
  {
   "cell_type": "code",
   "execution_count": 8,
   "metadata": {},
   "outputs": [],
   "source": [
    "# Write your own code here\n",
    "\n"
   ]
  },
  {
   "attachments": {},
   "cell_type": "markdown",
   "metadata": {},
   "source": [
    "<font size = \"5\">\n",
    "For questions (b)-(d), read \"data/wdi_2020.csv\" <br>\n",
    "\n",
    "- This is a dataset containing the proportion  <br>\n",
    "of urban population by country in 2020"
   ]
  },
  {
   "attachments": {},
   "cell_type": "markdown",
   "metadata": {},
   "source": [
    "<font size = \"5\">\n",
    "\n",
    "(b) Convert to upper case\n",
    "\n",
    "<font size = \"3\">\n",
    "\n",
    "- Create the following function to convert a string to upper case\n",
    "\n",
    "$\\quad$ ``` fn_upper = lambda x: x.upper() ```\n",
    "\n",
    "- Create a new column, \"countryname_upper\"  <br>\n",
    "that converts \"countryname\" to upper case.\n",
    "\n",
    "- Print the original `countryname` and the newly created column, like: <br>\n",
    "\"['Afghanistan', 'Africa Eastern and Southern', 'Africa Western and Central', 'Albania', 'Algeria', ......] \""
   ]
  },
  {
   "cell_type": "code",
   "execution_count": 9,
   "metadata": {},
   "outputs": [],
   "source": [
    "# Write your own code here\n"
   ]
  },
  {
   "attachments": {},
   "cell_type": "markdown",
   "metadata": {},
   "source": [
    "<font size = \"5\">\n",
    "\n",
    "(c) Extract sorted elements from a dataset\n",
    "\n",
    "<font size = \"3\">\n",
    "\n",
    "- Sort by \"prop_urbanpopulation\" in ascending order\n",
    "- Subset the 5 countries with the lowest urban population"
   ]
  },
  {
   "cell_type": "code",
   "execution_count": 10,
   "metadata": {},
   "outputs": [],
   "source": [
    "# Write your code here\n"
   ]
  },
  {
   "attachments": {},
   "cell_type": "markdown",
   "metadata": {},
   "source": [
    "<font size = \"5\">\n",
    "\n",
    "(d) Subset elements with query\n",
    "\n",
    "<font size = \"3\">\n",
    "\n",
    "- Compute the 25 quantile value of \"prop_urbanpopulation\"\n",
    "- Use \".query()\" to subset countries with <br>\n",
    " \"prop_urbanpopulation\" higher the 25 quantile\n",
    "\n",
    "**hint: Import ```numpy``` and use `np.nanpercentile`**"
   ]
  },
  {
   "cell_type": "code",
   "execution_count": 11,
   "metadata": {},
   "outputs": [],
   "source": [
    "# Write your own code here\n"
   ]
  },
  {
   "attachments": {},
   "cell_type": "markdown",
   "metadata": {},
   "source": [
    "<font size = \"5\">\n",
    "\n",
    "(e) Plot by category\n",
    "\n",
    "<font size = \"3\">\n",
    "\n",
    "- Read \"data/wdi_urban.csv\"<br>\n",
    "This contains data from 1980 and 2020\n",
    "\n",
    "- Create a list with the unique values of \"year\"\n",
    "- Create a plot with a ...\n",
    "    - Histogram of \"prop_urbanpopulation\" <br>\n",
    "    for each year\n",
    "    - Set the histogram option ``` alpha = 0.5 ``` for transparency\n",
    "    - All the histograms should be overlapping\n",
    "    - Create a legend with the list of years\n",
    "    - Label the axes and the title\n",
    "\n",
    "What do we learn from the graph?\n",
    "\n",
    "HINT: See the example at the end of Lecture 10\n"
   ]
  },
  {
   "cell_type": "code",
   "execution_count": 12,
   "metadata": {},
   "outputs": [],
   "source": [
    "# Write your own code here\n"
   ]
  }
 ],
 "metadata": {
  "kernelspec": {
   "display_name": "base",
   "language": "python",
   "name": "python3"
  },
  "language_info": {
   "codemirror_mode": {
    "name": "ipython",
    "version": 3
   },
   "file_extension": ".py",
   "mimetype": "text/x-python",
   "name": "python",
   "nbconvert_exporter": "python",
   "pygments_lexer": "ipython3",
   "version": "3.11.4"
  },
  "orig_nbformat": 4,
  "vscode": {
   "interpreter": {
    "hash": "45fc1f684f6f416f40889115beff3ddf69879b64cf4bfee48cb72a61e9d15d1a"
   }
  }
 },
 "nbformat": 4,
 "nbformat_minor": 2
}
