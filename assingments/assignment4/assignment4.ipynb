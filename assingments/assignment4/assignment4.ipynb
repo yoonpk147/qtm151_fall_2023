{
 "cells": [
  {
   "attachments": {},
   "cell_type": "markdown",
   "metadata": {},
   "source": [
    "# Assignment 4"
   ]
  },
  {
   "attachments": {},
   "cell_type": "markdown",
   "metadata": {},
   "source": [
    "## Try to submit as an HTML file"
   ]
  },
  {
   "attachments": {},
   "cell_type": "markdown",
   "metadata": {},
   "source": [
    "<font size = \"5\">\n",
    "Print your Emory ID below"
   ]
  },
  {
   "cell_type": "code",
   "execution_count": null,
   "metadata": {},
   "outputs": [],
   "source": [
    "# Write down your answer here:\n"
   ]
  },
  {
   "attachments": {},
   "cell_type": "markdown",
   "metadata": {},
   "source": [
    "<font size = \"5\">\n",
    "\n",
    "Import the numpy, matplotlib, and pandas packages"
   ]
  },
  {
   "cell_type": "code",
   "execution_count": 3,
   "metadata": {},
   "outputs": [],
   "source": [
    "# Write down your answer here:\n"
   ]
  },
  {
   "attachments": {},
   "cell_type": "markdown",
   "metadata": {},
   "source": [
    "<font size = \"5\">\n",
    "\n",
    "(a) Create a sequence \n",
    "\n",
    "- Create a value $n = 42$\n",
    "- Create a list with the values $0,1,\\ldots, n$\n",
    "- Count the length of the list"
   ]
  },
  {
   "cell_type": "code",
   "execution_count": 4,
   "metadata": {},
   "outputs": [],
   "source": [
    "# Write your own code\n"
   ]
  },
  {
   "attachments": {},
   "cell_type": "markdown",
   "metadata": {},
   "source": [
    "<font size = \"5\">\n",
    "\n",
    "(b) Counting True/False statements in a list\n",
    "\n",
    "- Create\n",
    "list_age = [58, 23, 63, 18, 76, 35, 48, 68]\n",
    "- Create an empty list \"list_eligible_retire\"\n",
    "- Use a for-loop without numbering\n",
    "    - Determine whether the age is $\\ge 65$\n",
    "    - Store the True/False result in \"list_eligible_retire\"\n",
    "- Use \"np.sum()\" to count how many workers are eligible for retirement\n",
    "\n",
    "Hint: Use the \"append\" function."
   ]
  },
  {
   "cell_type": "code",
   "execution_count": 5,
   "metadata": {},
   "outputs": [],
   "source": [
    "# Write your own code\n"
   ]
  },
  {
   "attachments": {},
   "cell_type": "markdown",
   "metadata": {},
   "source": [
    "<font size = \"5\">\n",
    "\n",
    "(c) Graphs from multiple datasets\n",
    "\n",
    "- Create a list with the two \"DF Open\" datasets for 2022, and 2023\n",
    "- Run a for-loop over each dataset \n",
    "    - Compute a histogram of \"overallScore\" for each year\n",
    "    - Label the title with the name of the dataset\n",
    "\n",
    "Note: the dataset showcases the data from the 2022 and 2023 crossfit games"
   ]
  },
  {
   "cell_type": "code",
   "execution_count": 6,
   "metadata": {},
   "outputs": [],
   "source": [
    "# Note \"overallScore\" is the final score each candidate achieved\n",
    "\n",
    "# Hint: Before you write the loop, test your code out by opening an individual dataset\n",
    "# Once you're sure the code works and you're familiar with the data, run the loop\n",
    "\n",
    "    "
   ]
  },
  {
   "cell_type": "markdown",
   "metadata": {},
   "source": [
    "<font size = \"5\">\n",
    "\n",
    "For questions (d) and (e), use the following table:\n",
    "\n",
    "<img src=\"figures/grade_scale.png\" alt=\"500\" width=\"200\"/>\n",
    "\n",
    "(d) Loops with multiple lists\n",
    "\n",
    "<font size =\"3\">\n",
    "- Create three lists\n",
    "\n",
    "list_lower = [93, 90, 87, 83, 80, 77, 73, 70, 67, 63, 60, 0]\n",
    "\n",
    "list_upper = [100, 92, 89, 86, 82, 79, 76, 72, 69, 66, 62, 59]\n",
    "\n",
    "list_letters = [\"A\",\"A-\",\"B+\",\"B\",\"B-\",\"C+\",\"C\",\"C-\",\"D+\",\"D\",\"D-\",\"F\"]\n",
    "\n",
    "- Create a for loop that prints the message:\n",
    "\n",
    "\"If a students gets a grade between .... and ..., their letter grade is ...\""
   ]
  },
  {
   "cell_type": "code",
   "execution_count": 7,
   "metadata": {},
   "outputs": [],
   "source": [
    "# Hint: Use a for-loop with numbering \n",
    "# Start the index at zero\n",
    "# In the body of the loop, extract the elements in each list by the index position\n",
    "    "
   ]
  },
  {
   "attachments": {},
   "cell_type": "markdown",
   "metadata": {},
   "source": [
    "<font size = \"5\" >\n",
    "\n",
    "(e) Classification with double loops\n",
    "\n",
    "<font size =\"3\">\n",
    "\n",
    "- Suppose that 7 students get the following grades:\n",
    "\n",
    "list_studentgrades = [84, 62, 92, 74, 97, 80, 79]\n",
    "\n",
    "- Print the following message:\n",
    "\n",
    "\"The student got a numeric grade of .... and their letter grade was ...\"\n"
   ]
  },
  {
   "cell_type": "code",
   "execution_count": 8,
   "metadata": {},
   "outputs": [],
   "source": [
    "#(a) Hint: Use a double for loop structure:\n",
    "#---- for studentgrade in list_studentgrades:\n",
    "#----     index = 0\n",
    "#----     for letter in list_letters:\n",
    "#----          Body\n",
    "#----          index = index + 1\n",
    "\n",
    "# (b) Inside the body, use an if/else statement to print the correct letter grade.\n",
    "# You can make your code more concise by doing similar steps to question (d).\n"
   ]
  }
 ],
 "metadata": {
  "kernelspec": {
   "display_name": "base",
   "language": "python",
   "name": "python3"
  },
  "language_info": {
   "codemirror_mode": {
    "name": "ipython",
    "version": 3
   },
   "file_extension": ".py",
   "mimetype": "text/x-python",
   "name": "python",
   "nbconvert_exporter": "python",
   "pygments_lexer": "ipython3",
   "version": "3.11.4"
  },
  "orig_nbformat": 4,
  "vscode": {
   "interpreter": {
    "hash": "45fc1f684f6f416f40889115beff3ddf69879b64cf4bfee48cb72a61e9d15d1a"
   }
  }
 },
 "nbformat": 4,
 "nbformat_minor": 2
}
